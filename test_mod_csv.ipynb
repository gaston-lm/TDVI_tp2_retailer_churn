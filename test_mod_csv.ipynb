{
 "cells": [
  {
   "cell_type": "code",
   "execution_count": 21,
   "metadata": {},
   "outputs": [],
   "source": [
    "import pandas as pd\n",
    "import math\n",
    "import sklearn\n",
    "from sklearn.model_selection import train_test_split\n",
    "from sklearn.metrics import balanced_accuracy_score, roc_auc_score, make_scorer\n",
    "from sklearn.model_selection import ParameterSampler\n",
    "from sklearn.metrics import confusion_matrix\n",
    "\n",
    "seed = 798589991"
   ]
  },
  {
   "cell_type": "code",
   "execution_count": 4,
   "metadata": {},
   "outputs": [],
   "source": [
    "comp_data = pd.read_csv(\"data/competition_data.csv\")"
   ]
  },
  {
   "cell_type": "markdown",
   "metadata": {},
   "source": [
    "Cosas para hacer:\n",
    "\n",
    "- Platform -> pasar a una categoria que sea simplemente Desktop o Mobile.\n",
    "- Chequear si algun uid / user_id se repite, si no, no nos esta dando data y los podemos eliminar.\n",
    "- Garantia -> pasar a binario tiene o no tiene.\n",
    "- Foto -> no nos sirve a no ser que de alguna manera determinemos si es buena o mala calidad (bastante complicado a priori), eliminar.\n",
    "- Separar date en año, mes, dia, hora.\n",
    "- Deal print -> no parece aportar nada, son todos distintos, eliminar.\n",
    "- Category id, domain id, full name. Con category y domain tenemos la misma data que full name, podriamos eliminar full name y ver como funciona, porque su OHE va a ser eterno.\n",
    "- etl version es siempre lo mismo, eliminar.\n",
    "- title, product id e item id nos dan la misma informacion, dejar una.\n",
    "- \"benefit ignore should be dropped\" -> eliminar benefit\n",
    "- \"decimals ignore should be dropped\" -> eliminar decimals\n",
    "- hay descuento? -> original_price - price != 0, crear columna \"in_discount\"\n",
    "- rn leftover from ETL, discard -> eliminar rn.\n",
    "- ver si desagregar tags puede aportar algo"
   ]
  },
  {
   "cell_type": "code",
   "execution_count": 12,
   "metadata": {},
   "outputs": [],
   "source": [
    "# Dropeo las columnas.\n",
    "comp_data.drop('benefit', inplace=True, axis=1)\n",
    "comp_data.drop('user_id', inplace=True, axis=1)\n",
    "comp_data.drop('uid', inplace=True, axis=1)\n",
    "comp_data.drop('main_picture', inplace=True, axis=1)\n",
    "comp_data.drop('full_name', inplace=True, axis=1)\n",
    "comp_data.drop('deal_print_id', inplace=True, axis=1)\n",
    "comp_data.drop('etl_version', inplace=True, axis=1)\n",
    "comp_data.drop('product_id', inplace=True, axis=1)\n",
    "comp_data.drop('title', inplace=True, axis=1)\n",
    "comp_data.drop('site_id', inplace=True, axis=1)"
   ]
  },
  {
   "cell_type": "code",
   "execution_count": 19,
   "metadata": {},
   "outputs": [
    {
     "name": "stderr",
     "output_type": "stream",
     "text": [
      "C:\\Users\\feder\\AppData\\Local\\Temp\\ipykernel_12524\\2559719617.py:7: SettingWithCopyWarning: \n",
      "A value is trying to be set on a copy of a slice from a DataFrame\n",
      "\n",
      "See the caveats in the documentation: https://pandas.pydata.org/pandas-docs/stable/user_guide/indexing.html#returning-a-view-versus-a-copy\n",
      "  comp_data['platform'][i] = check_plat[2]\n"
     ]
    }
   ],
   "source": [
    "# Divido platform en solo Desktop, Ios, Android\n",
    "for i in range(len(comp_data['platform'])):\n",
    "    check_plat = comp_data['platform'][i].split('/')\n",
    "    comp_data['platform'][i] = check_plat[2]"
   ]
  },
  {
   "cell_type": "code",
   "execution_count": 23,
   "metadata": {},
   "outputs": [
    {
     "ename": "ValueError",
     "evalue": "invalid literal for int() with base 10: 'Garantía de fábrica: 12 meses'",
     "output_type": "error",
     "traceback": [
      "\u001b[1;31m---------------------------------------------------------------------------\u001b[0m",
      "\u001b[1;31mValueError\u001b[0m                                Traceback (most recent call last)",
      "Cell \u001b[1;32mIn[23], line 7\u001b[0m\n\u001b[0;32m      5\u001b[0m     warranty[i] \u001b[39m=\u001b[39m \u001b[39mFalse\u001b[39;00m\n\u001b[0;32m      6\u001b[0m \u001b[39melse\u001b[39;00m:\n\u001b[1;32m----> 7\u001b[0m     \u001b[39mif\u001b[39;00m math\u001b[39m.\u001b[39misnan(\u001b[39mint\u001b[39;49m(comp_data[\u001b[39m'\u001b[39;49m\u001b[39mwarranty\u001b[39;49m\u001b[39m'\u001b[39;49m][i])):\n\u001b[0;32m      8\u001b[0m         warranty[i] \u001b[39m=\u001b[39m comp_data[\u001b[39m'\u001b[39m\u001b[39mwarranty\u001b[39m\u001b[39m'\u001b[39m][i]\n\u001b[0;32m      9\u001b[0m     \u001b[39melse\u001b[39;00m:\n",
      "\u001b[1;31mValueError\u001b[0m: invalid literal for int() with base 10: 'Garantía de fábrica: 12 meses'"
     ]
    }
   ],
   "source": [
    "# Transformo garantía en una columna binaria (True, False, NaN)\n",
    "warranty = [True] * 199972\n",
    "for i in range(len(comp_data['warranty'])):\n",
    "    if comp_data['warranty'][i] == \"Sin garantía\":\n",
    "        warranty[i] = False\n",
    "    else:\n",
    "        # Chequear NaN\n",
    "        if True:\n",
    "            pass\n",
    "        else:\n",
    "            warranty[i] = True\n",
    "\n",
    "comp_data['binary_warranty'] = warranty"
   ]
  }
 ],
 "metadata": {
  "kernelspec": {
   "display_name": "td6",
   "language": "python",
   "name": "python3"
  },
  "language_info": {
   "codemirror_mode": {
    "name": "ipython",
    "version": 3
   },
   "file_extension": ".py",
   "mimetype": "text/x-python",
   "name": "python",
   "nbconvert_exporter": "python",
   "pygments_lexer": "ipython3",
   "version": "3.11.4"
  },
  "orig_nbformat": 4
 },
 "nbformat": 4,
 "nbformat_minor": 2
}
