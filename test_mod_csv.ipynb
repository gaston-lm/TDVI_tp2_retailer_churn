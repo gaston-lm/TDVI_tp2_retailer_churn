{
 "cells": [
  {
   "cell_type": "code",
   "execution_count": 37,
   "metadata": {},
   "outputs": [],
   "source": [
    "import pandas as pd\n",
    "import numpy as np\n",
    "import xgboost as xgb\n",
    "import sklearn\n",
    "from sklearn.pipeline import make_pipeline\n",
    "from sklearn.impute import SimpleImputer\n",
    "from sklearn.model_selection import train_test_split\n",
    "from sklearn.metrics import balanced_accuracy_score, roc_auc_score, make_scorer\n",
    "from sklearn.model_selection import ParameterSampler\n",
    "from sklearn.metrics import confusion_matrix\n",
    "\n",
    "seed = 798589991"
   ]
  },
  {
   "cell_type": "code",
   "execution_count": 2,
   "metadata": {},
   "outputs": [],
   "source": [
    "comp_data = pd.read_csv(\"data/competition_data.csv\")"
   ]
  },
  {
   "cell_type": "markdown",
   "metadata": {},
   "source": [
    "Cosas para hacer:\n",
    "\n",
    "- Platform -> pasar a una categoria que sea simplemente Desktop o Mobile.\n",
    "- Chequear si algun uid / user_id se repite, si no, no nos esta dando data y los podemos eliminar.\n",
    "- Garantia -> pasar a binario tiene o no tiene.\n",
    "- Foto -> no nos sirve a no ser que de alguna manera determinemos si es buena o mala calidad (bastante complicado a priori), eliminar.\n",
    "- Separar date en año, mes, dia, hora.\n",
    "- Deal print -> no parece aportar nada, son todos distintos, eliminar.\n",
    "- Category id, domain id, full name. Con category y domain tenemos la misma data que full name, podriamos eliminar full name y ver como funciona, porque su OHE va a ser eterno.\n",
    "- etl version es siempre lo mismo, eliminar.\n",
    "- title, product id e item id nos dan la misma informacion, dejar una.\n",
    "- \"benefit ignore should be dropped\" -> eliminar benefit\n",
    "- \"decimals ignore should be dropped\" -> eliminar decimals\n",
    "- hay descuento? -> original_price - price != 0, crear columna \"in_discount\"\n",
    "- rn leftover from ETL, discard -> eliminar rn.\n",
    "- ver si desagregar tags puede aportar algo"
   ]
  },
  {
   "cell_type": "code",
   "execution_count": 3,
   "metadata": {},
   "outputs": [],
   "source": [
    "# Dropeo las columnas.\n",
    "comp_data.drop('benefit', inplace=True, axis=1)\n",
    "comp_data.drop('user_id', inplace=True, axis=1)\n",
    "comp_data.drop('uid', inplace=True, axis=1)\n",
    "comp_data.drop('main_picture', inplace=True, axis=1)\n",
    "comp_data.drop('full_name', inplace=True, axis=1)\n",
    "comp_data.drop('deal_print_id', inplace=True, axis=1)\n",
    "comp_data.drop('etl_version', inplace=True, axis=1)\n",
    "comp_data.drop('product_id', inplace=True, axis=1)\n",
    "comp_data.drop('title', inplace=True, axis=1)\n",
    "comp_data.drop('site_id', inplace=True, axis=1)"
   ]
  },
  {
   "cell_type": "code",
   "execution_count": 4,
   "metadata": {},
   "outputs": [
    {
     "name": "stderr",
     "output_type": "stream",
     "text": [
      "C:\\Users\\feder\\AppData\\Local\\Temp\\ipykernel_9644\\2136878619.py:4: SettingWithCopyWarning: \n",
      "A value is trying to be set on a copy of a slice from a DataFrame\n",
      "\n",
      "See the caveats in the documentation: https://pandas.pydata.org/pandas-docs/stable/user_guide/indexing.html#returning-a-view-versus-a-copy\n",
      "  comp_data['platform'][i] = check_plat[2]\n"
     ]
    }
   ],
   "source": [
    "# Divido platform en solo Desktop, Ios, Android\n",
    "for i in range(len(comp_data['platform'])):\n",
    "    check_plat = comp_data['platform'][i].split('/')\n",
    "    comp_data['platform'][i] = check_plat[2]"
   ]
  },
  {
   "cell_type": "code",
   "execution_count": null,
   "metadata": {},
   "outputs": [],
   "source": [
    "# Transformo garantía en una columna binaria (True, False, NaN)\n",
    "warranty = [True] * 199972\n",
    "for i in range(len(comp_data['warranty'])):\n",
    "    if comp_data['warranty'][i] == \"Sin garantía\":\n",
    "        warranty[i] = False\n",
    "    else:\n",
    "        if pd.notna(comp_data['warranty'][i]):\n",
    "            warranty[i] = True\n",
    "        else:\n",
    "            warranty[i] = np.nan\n",
    "\n",
    "comp_data['binary_warranty'] = warranty\n",
    "comp_data.drop('warranty', inplace=True, axis=1)"
   ]
  },
  {
   "cell_type": "code",
   "execution_count": 24,
   "metadata": {},
   "outputs": [],
   "source": [
    "# Creo una columna con el descuento (en porcentaje).\n",
    "\n",
    "discount = ((comp_data['original_price'] - comp_data['price']) / comp_data['original_price']) * 100\n",
    "comp_data['discount_%'] = discount\n",
    "\n",
    "comp_data.drop('original_price', inplace=True, axis=1)"
   ]
  },
  {
   "cell_type": "code",
   "execution_count": 17,
   "metadata": {},
   "outputs": [
    {
     "data": {
      "text/plain": [
       "['good_quality_picture',\n",
       " 'good_quality_thumbnail',\n",
       " 'today_promotion',\n",
       " 'brand_verified',\n",
       " 'extended_warranty_eligible',\n",
       " 'immediate_payment',\n",
       " 'cart_eligible',\n",
       " 'incomplete_technical_specs',\n",
       " 'loyalty_discount_eligible',\n",
       " 'deal_of_the_day',\n",
       " 'dragged_bids_and_visits',\n",
       " 'lightning_deal',\n",
       " 'poor_quality_picture',\n",
       " 'ahora-12',\n",
       " 'catalog_listing_eligible',\n",
       " 'poor_quality_thumbnail',\n",
       " 'supermarket_eligible',\n",
       " 'under_infractions']"
      ]
     },
     "execution_count": 17,
     "metadata": {},
     "output_type": "execute_result"
    }
   ],
   "source": [
    "# Consigo los tags posibles.\n",
    "unique_tags = []\n",
    "for list in comp_data['tags']:\n",
    "    list_split = list[1:len(list)-1].split(', ')\n",
    "    for item in list_split:\n",
    "        if not (item in unique_tags):\n",
    "            unique_tags.append(item)\n",
    "\n",
    "unique_tags"
   ]
  },
  {
   "cell_type": "code",
   "execution_count": 23,
   "metadata": {},
   "outputs": [],
   "source": [
    "# Separo los tags en columnas de booleanos.\n",
    "for tag in unique_tags:\n",
    "    comp_data[tag] = comp_data['tags'].apply(lambda x: tag in x)\n",
    "\n",
    "comp_data.drop('tags', inplace=True, axis=1)"
   ]
  },
  {
   "cell_type": "code",
   "execution_count": 26,
   "metadata": {},
   "outputs": [],
   "source": [
    "# One Hot Encoding\n",
    "\n",
    "columns_to_encode = ['category_id', 'item_id', 'listing_type_id', 'logistic_type', 'platform']\n",
    "\n",
    "# Apply one-hot encoding to categorical columns\n",
    "encoded_columns = pd.get_dummies(comp_data[columns_to_encode], drop_first=True)\n",
    "\n",
    "# Concatenate the original DataFrame and the one-hot encoded columns\n",
    "comp_data_encoded = pd.concat([comp_data, encoded_columns], axis=1)\n",
    "\n",
    "# Drop the original categorical columns\n",
    "comp_data_encoded.drop(columns=columns_to_encode, inplace=True)"
   ]
  },
  {
   "cell_type": "code",
   "execution_count": null,
   "metadata": {},
   "outputs": [],
   "source": [
    "comp_data['binary_warranty'] = comp_data['binary_warranty'].astype(bool)\n",
    "comp_data = pd.get_dummies(comp_data, columns=['platform'])"
   ]
  },
  {
   "cell_type": "code",
   "execution_count": 63,
   "metadata": {},
   "outputs": [],
   "source": [
    "object_columns = ['date', 'domain_id', 'is_pdp', 'item_id', 'listing_type_id', 'logistic_type', 'print_server_timestamp', 'category_id']\n",
    "comp_data.drop(columns=object_columns, inplace=True, axis=1)"
   ]
  },
  {
   "cell_type": "code",
   "execution_count": 64,
   "metadata": {},
   "outputs": [
    {
     "name": "stdout",
     "output_type": "stream",
     "text": [
      "[0]\tvalidation_0-auc:0.73446\n",
      "[1]\tvalidation_0-auc:0.73941\n",
      "[2]\tvalidation_0-auc:0.74297\n",
      "[3]\tvalidation_0-auc:0.74605\n",
      "[4]\tvalidation_0-auc:0.74769\n",
      "[5]\tvalidation_0-auc:0.74829\n",
      "[6]\tvalidation_0-auc:0.74923\n",
      "[7]\tvalidation_0-auc:0.75057\n",
      "[8]\tvalidation_0-auc:0.75213\n",
      "[9]\tvalidation_0-auc:0.75406\n",
      "[10]\tvalidation_0-auc:0.75485\n",
      "[11]\tvalidation_0-auc:0.75560\n",
      "[12]\tvalidation_0-auc:0.75748\n",
      "[13]\tvalidation_0-auc:0.75813\n",
      "[14]\tvalidation_0-auc:0.75889\n",
      "[15]\tvalidation_0-auc:0.76023\n",
      "[16]\tvalidation_0-auc:0.76176\n",
      "[17]\tvalidation_0-auc:0.76333\n",
      "[18]\tvalidation_0-auc:0.76396\n",
      "[19]\tvalidation_0-auc:0.76494\n",
      "[20]\tvalidation_0-auc:0.76564\n",
      "[21]\tvalidation_0-auc:0.76612\n",
      "[22]\tvalidation_0-auc:0.76626\n",
      "[23]\tvalidation_0-auc:0.76700\n",
      "[24]\tvalidation_0-auc:0.76766\n",
      "[25]\tvalidation_0-auc:0.76780\n",
      "[26]\tvalidation_0-auc:0.76802\n",
      "[27]\tvalidation_0-auc:0.76858\n",
      "[28]\tvalidation_0-auc:0.76904\n",
      "[29]\tvalidation_0-auc:0.76902\n",
      "[30]\tvalidation_0-auc:0.76919\n",
      "[31]\tvalidation_0-auc:0.76963\n",
      "[32]\tvalidation_0-auc:0.77014\n",
      "[33]\tvalidation_0-auc:0.77021\n",
      "[34]\tvalidation_0-auc:0.77038\n",
      "[35]\tvalidation_0-auc:0.77066\n",
      "[36]\tvalidation_0-auc:0.77059\n",
      "[37]\tvalidation_0-auc:0.77115\n",
      "[38]\tvalidation_0-auc:0.77117\n",
      "[39]\tvalidation_0-auc:0.77144\n",
      "[40]\tvalidation_0-auc:0.77151\n",
      "[41]\tvalidation_0-auc:0.77127\n",
      "[42]\tvalidation_0-auc:0.77130\n",
      "[43]\tvalidation_0-auc:0.77149\n",
      "[44]\tvalidation_0-auc:0.77192\n",
      "[45]\tvalidation_0-auc:0.77169\n",
      "[46]\tvalidation_0-auc:0.77243\n",
      "[47]\tvalidation_0-auc:0.77283\n",
      "[48]\tvalidation_0-auc:0.77308\n",
      "[49]\tvalidation_0-auc:0.77301\n",
      "[50]\tvalidation_0-auc:0.77296\n",
      "[51]\tvalidation_0-auc:0.77295\n",
      "[52]\tvalidation_0-auc:0.77295\n",
      "[53]\tvalidation_0-auc:0.77304\n",
      "[54]\tvalidation_0-auc:0.77374\n",
      "[55]\tvalidation_0-auc:0.77379\n",
      "[56]\tvalidation_0-auc:0.77328\n",
      "[57]\tvalidation_0-auc:0.77314\n",
      "[58]\tvalidation_0-auc:0.77304\n",
      "[59]\tvalidation_0-auc:0.77304\n",
      "[60]\tvalidation_0-auc:0.77308\n",
      "[61]\tvalidation_0-auc:0.77319\n",
      "[62]\tvalidation_0-auc:0.77333\n",
      "[63]\tvalidation_0-auc:0.77322\n",
      "[64]\tvalidation_0-auc:0.77337\n",
      "[65]\tvalidation_0-auc:0.77330\n",
      "[66]\tvalidation_0-auc:0.77354\n",
      "[67]\tvalidation_0-auc:0.77364\n",
      "[68]\tvalidation_0-auc:0.77375\n",
      "[69]\tvalidation_0-auc:0.77397\n",
      "[70]\tvalidation_0-auc:0.77382\n",
      "[71]\tvalidation_0-auc:0.77373\n",
      "[72]\tvalidation_0-auc:0.77369\n",
      "[73]\tvalidation_0-auc:0.77369\n",
      "[74]\tvalidation_0-auc:0.77375\n",
      "[75]\tvalidation_0-auc:0.77389\n",
      "[76]\tvalidation_0-auc:0.77402\n",
      "[77]\tvalidation_0-auc:0.77398\n",
      "[78]\tvalidation_0-auc:0.77392\n",
      "[79]\tvalidation_0-auc:0.77368\n",
      "[80]\tvalidation_0-auc:0.77362\n",
      "[81]\tvalidation_0-auc:0.77366\n",
      "[82]\tvalidation_0-auc:0.77357\n",
      "[83]\tvalidation_0-auc:0.77383\n",
      "[84]\tvalidation_0-auc:0.77398\n",
      "[85]\tvalidation_0-auc:0.77399\n",
      "[86]\tvalidation_0-auc:0.77403\n",
      "[87]\tvalidation_0-auc:0.77404\n",
      "[88]\tvalidation_0-auc:0.77411\n",
      "[89]\tvalidation_0-auc:0.77398\n",
      "[90]\tvalidation_0-auc:0.77399\n",
      "[91]\tvalidation_0-auc:0.77407\n",
      "[92]\tvalidation_0-auc:0.77402\n",
      "[93]\tvalidation_0-auc:0.77406\n",
      "[94]\tvalidation_0-auc:0.77388\n",
      "[95]\tvalidation_0-auc:0.77414\n",
      "[96]\tvalidation_0-auc:0.77423\n",
      "[97]\tvalidation_0-auc:0.77437\n",
      "[98]\tvalidation_0-auc:0.77429\n",
      "[99]\tvalidation_0-auc:0.77429\n",
      "AUC-ROC validación: 0.77429\n"
     ]
    }
   ],
   "source": [
    "# Dividimos entre la data que tenemos y la de evaluación para submitear.\n",
    "\n",
    "# La información que tenemos para entrenar y validar.\n",
    "local_data = comp_data[comp_data[\"ROW_ID\"].isna()]\n",
    "\n",
    "# La información en la que no tenemos las y, para predecir con el modelo ya entrenado y subir a Kaggle.\n",
    "kaggle_data = comp_data[comp_data[\"ROW_ID\"].notna()] \n",
    "\n",
    "# Entrenamos un modelo de xgboost\n",
    "y = local_data[['conversion']].copy()\n",
    "X = local_data.drop(columns=['conversion', 'ROW_ID'], axis = 1)\n",
    "\n",
    "val_test_size = 0.3 # Proporción de la suma del test de validación y del de test.\n",
    "X_train, X_val, y_train, y_val = train_test_split(X, y, test_size = val_test_size, random_state = seed, stratify = y)\n",
    "\n",
    "cls = xgb.XGBClassifier(objective = 'binary:logistic', seed = seed, eval_metric = 'auc')\n",
    "cls.fit(X_train, y_train, eval_set = [(X_val, y_val)])\n",
    "\n",
    "# Chequeamos el valor debajo de la curva AUC-ROC\n",
    "y_pred = cls.predict_proba(X_val)[:, 1]\n",
    "auc_roc = sklearn.metrics.roc_auc_score(y_val, y_pred)\n",
    "print('AUC-ROC validación: %0.5f' % auc_roc)\n",
    "\n",
    "\n",
    "# Predicción en la data de kaggle para submitear.\n",
    "kaggle_data = kaggle_data.drop(columns=[\"conversion\"])\n",
    "y_preds = cls.predict_proba(kaggle_data.drop(columns=[\"ROW_ID\"]))[:, cls.classes_ == 1].squeeze()\n",
    "\n",
    "# Generamos el archivo para submit en base a lo predicho.\n",
    "submission_df = pd.DataFrame({\"ROW_ID\": kaggle_data[\"ROW_ID\"], \"conversion\": y_preds})\n",
    "submission_df[\"ROW_ID\"] = submission_df[\"ROW_ID\"].astype(int)\n",
    "submission_df.to_csv(\"xgboost_model/xgboost_model.csv\", sep=\",\", index=False)\n"
   ]
  }
 ],
 "metadata": {
  "kernelspec": {
   "display_name": "td6",
   "language": "python",
   "name": "python3"
  },
  "language_info": {
   "codemirror_mode": {
    "name": "ipython",
    "version": 3
   },
   "file_extension": ".py",
   "mimetype": "text/x-python",
   "name": "python",
   "nbconvert_exporter": "python",
   "pygments_lexer": "ipython3",
   "version": "3.11.4"
  },
  "orig_nbformat": 4
 },
 "nbformat": 4,
 "nbformat_minor": 2
}
