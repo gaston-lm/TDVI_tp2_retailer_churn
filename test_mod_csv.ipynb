{
 "cells": [
  {
   "cell_type": "code",
   "execution_count": 14,
   "metadata": {},
   "outputs": [],
   "source": [
    "import pandas as pd\n",
    "import numpy as np\n",
    "import xgboost as xgb\n",
    "import sklearn\n",
    "from hyperopt import hp, tpe, fmin\n",
    "from sklearn.pipeline import make_pipeline\n",
    "from sklearn.impute import SimpleImputer\n",
    "from sklearn.model_selection import train_test_split\n",
    "from sklearn.metrics import balanced_accuracy_score, roc_auc_score, make_scorer\n",
    "from sklearn.model_selection import ParameterSampler\n",
    "from sklearn.metrics import confusion_matrix\n",
    "from sklearn.preprocessing import StandardScaler\n",
    "\n",
    "seed = 798589991"
   ]
  },
  {
   "cell_type": "code",
   "execution_count": 3,
   "metadata": {},
   "outputs": [],
   "source": [
    "comp_data = pd.read_csv(\"data/competition_data.csv\")"
   ]
  },
  {
   "cell_type": "markdown",
   "metadata": {},
   "source": [
    "Cosas para hacer:\n",
    "\n",
    "- Platform -> pasar a una categoria que sea simplemente Desktop o Mobile.\n",
    "- Chequear si algun uid / user_id se repite, si no, no nos esta dando data y los podemos eliminar.\n",
    "- Garantia -> pasar a binario tiene o no tiene.\n",
    "- Foto -> no nos sirve a no ser que de alguna manera determinemos si es buena o mala calidad (bastante complicado a priori), eliminar.\n",
    "- Separar date en año, mes, dia, hora.\n",
    "- Deal print -> no parece aportar nada, son todos distintos, eliminar.\n",
    "- Category id, domain id, full name. Con category y domain tenemos la misma data que full name, podriamos eliminar full name y ver como funciona, porque su OHE va a ser eterno.\n",
    "- etl version es siempre lo mismo, eliminar.\n",
    "- title, product id e item id nos dan la misma informacion, dejar una.\n",
    "- \"benefit ignore should be dropped\" -> eliminar benefit\n",
    "- \"decimals ignore should be dropped\" -> eliminar decimals\n",
    "- hay descuento? -> original_price - price != 0, crear columna \"in_discount\"\n",
    "- rn leftover from ETL, discard -> eliminar rn.\n",
    "- ver si desagregar tags puede aportar algo"
   ]
  },
  {
   "cell_type": "code",
   "execution_count": 4,
   "metadata": {},
   "outputs": [],
   "source": [
    "# Dropeo las columnas.\n",
    "comp_data.drop('benefit', inplace=True, axis=1)\n",
    "comp_data.drop('user_id', inplace=True, axis=1)\n",
    "comp_data.drop('uid', inplace=True, axis=1)\n",
    "comp_data.drop('main_picture', inplace=True, axis=1)\n",
    "comp_data.drop('category_id', inplace=True, axis=1)\n",
    "comp_data.drop('domain_id', inplace=True, axis=1)\n",
    "comp_data.drop('deal_print_id', inplace=True, axis=1)\n",
    "comp_data.drop('etl_version', inplace=True, axis=1)\n",
    "comp_data.drop('product_id', inplace=True, axis=1)\n",
    "comp_data.drop('title', inplace=True, axis=1)\n",
    "comp_data.drop('site_id', inplace=True, axis=1)\n",
    "comp_data.drop('item_id', inplace=True, axis=1)\n",
    "comp_data.drop('print_server_timestamp', inplace=True, axis=1)"
   ]
  },
  {
   "cell_type": "code",
   "execution_count": 10,
   "metadata": {},
   "outputs": [
    {
     "name": "stderr",
     "output_type": "stream",
     "text": [
      "C:\\Users\\feder\\AppData\\Local\\Temp\\ipykernel_7752\\2429397142.py:7: SettingWithCopyWarning: \n",
      "A value is trying to be set on a copy of a slice from a DataFrame\n",
      "\n",
      "See the caveats in the documentation: https://pandas.pydata.org/pandas-docs/stable/user_guide/indexing.html#returning-a-view-versus-a-copy\n",
      "  comp_data['platform'][i] = check_plat[2]\n",
      "C:\\Users\\feder\\AppData\\Local\\Temp\\ipykernel_7752\\2429397142.py:8: SettingWithCopyWarning: \n",
      "A value is trying to be set on a copy of a slice from a DataFrame\n",
      "\n",
      "See the caveats in the documentation: https://pandas.pydata.org/pandas-docs/stable/user_guide/indexing.html#returning-a-view-versus-a-copy\n",
      "  comp_data['full_name'][i] = item_split[0]\n"
     ]
    }
   ],
   "source": [
    "# Divido platform en solo desktop (web desde computadora), ios (app ios), android (app android), mobile (web desde celular).\n",
    "\n",
    "type_of_product = []\n",
    "for i in range(len(comp_data['platform'])):\n",
    "    check_plat = comp_data['platform'][i].split('/')\n",
    "    item_split = comp_data['full_name'][i].split(' -> ')\n",
    "    comp_data['platform'][i] = check_plat[2]\n",
    "    comp_data['full_name'][i] = item_split[0]\n",
    "    type_of_product.append(item_split[-1])\n",
    "\n",
    "comp_data['type_product'] = type_of_product"
   ]
  },
  {
   "cell_type": "code",
   "execution_count": 5,
   "metadata": {},
   "outputs": [],
   "source": [
    "# Transformo garantía en una columna binaria (True, False, NaN)\n",
    "warranty = [True] * 199972\n",
    "for i in range(len(comp_data['warranty'])):\n",
    "    if comp_data['warranty'][i] == \"Sin garantía\":\n",
    "        warranty[i] = False\n",
    "    else:\n",
    "        if pd.notna(comp_data['warranty'][i]):\n",
    "            warranty[i] = True\n",
    "        else:\n",
    "            warranty[i] = np.nan\n",
    "\n",
    "comp_data['binary_warranty'] = warranty\n",
    "comp_data['binary_warranty'] = comp_data['binary_warranty'].astype(bool)\n",
    "\n",
    "comp_data.drop('warranty', inplace=True, axis=1)"
   ]
  },
  {
   "cell_type": "code",
   "execution_count": 6,
   "metadata": {},
   "outputs": [],
   "source": [
    "# Creo una columna con el descuento (en porcentaje).\n",
    "\n",
    "discount = ((comp_data['original_price'] - comp_data['price']) / comp_data['original_price']) * 100\n",
    "comp_data['discount_%'] = discount\n",
    "\n",
    "comp_data.drop('original_price', inplace=True, axis=1)"
   ]
  },
  {
   "cell_type": "code",
   "execution_count": 7,
   "metadata": {},
   "outputs": [],
   "source": [
    "# Consigo los tags posibles.\n",
    "unique_tags = []\n",
    "for list in comp_data['tags']:\n",
    "    list_split = list[1:len(list)-1].split(', ')\n",
    "    for item in list_split:\n",
    "        if not (item in unique_tags):\n",
    "            unique_tags.append(item)"
   ]
  },
  {
   "cell_type": "code",
   "execution_count": 8,
   "metadata": {},
   "outputs": [],
   "source": [
    "# Separo los tags en columnas de booleanos.\n",
    "for tag in unique_tags:\n",
    "    comp_data[tag] = comp_data['tags'].apply(lambda x: tag in x)\n",
    "\n",
    "comp_data.drop('tags', inplace=True, axis=1)"
   ]
  },
  {
   "cell_type": "code",
   "execution_count": 9,
   "metadata": {},
   "outputs": [],
   "source": [
    "# Hacer algo inteligente con la date.\n",
    "comp_data['date'] = pd.to_datetime(comp_data['date'])\n",
    "comp_data['month'] = comp_data['date'].dt.month\n",
    "comp_data['day'] = comp_data['date'].dt.day\n",
    "comp_data['day_of_week'] = comp_data['date'].dt.dayofweek\n",
    "comp_data.drop('date', inplace=True, axis=1)"
   ]
  },
  {
   "cell_type": "code",
   "execution_count": 11,
   "metadata": {},
   "outputs": [],
   "source": [
    "cols_to_encode = ['full_name', 'listing_type_id', 'logistic_type', 'platform', 'type_product']\n",
    "comp_data_encoded = pd.get_dummies(comp_data[cols_to_encode])\n",
    "comp_data = pd.concat([comp_data, comp_data_encoded], axis=1)\n",
    "comp_data.drop(columns=cols_to_encode, inplace=True, axis=1)"
   ]
  },
  {
   "cell_type": "code",
   "execution_count": 12,
   "metadata": {},
   "outputs": [],
   "source": [
    "# Antes de empezar el entrenamiento del modelo, paso a int las columnas de booleano. Lo hago así para no tener problemas con los NaNs\n",
    "comp_data.replace({False: 0, True: 1}, inplace=True)"
   ]
  },
  {
   "cell_type": "code",
   "execution_count": 17,
   "metadata": {},
   "outputs": [
    {
     "name": "stdout",
     "output_type": "stream",
     "text": [
      "AUC-ROC validación: 0.88985\n"
     ]
    }
   ],
   "source": [
    "# Dividimos entre la data que tenemos y la de evaluación para submitear.\n",
    "\n",
    "# La información que tenemos para entrenar y validar.\n",
    "local_data = comp_data[comp_data[\"ROW_ID\"].isna()]\n",
    "\n",
    "# La información en la que no tenemos las y, para predecir con el modelo ya entrenado y subir a Kaggle.\n",
    "kaggle_data = comp_data[comp_data[\"ROW_ID\"].notna()] \n",
    "\n",
    "# Entrenamos un modelo de xgboost\n",
    "y = local_data[['conversion']].copy()\n",
    "X = local_data.drop(columns=['conversion', 'ROW_ID'], axis = 1)\n",
    "\n",
    "val_test_size = 0.3 # Proporción de la suma del test de validación y del de test.\n",
    "X_train, X_val, y_train, y_val = train_test_split(X, y, test_size = val_test_size, random_state = seed, stratify = y)\n",
    "\n",
    "# # Define the search space for hyperparameters\n",
    "# space = {\n",
    "#     'max_depth': hp.choice('max_depth', range(1, 10)),\n",
    "#     'learning_rate': hp.loguniform('learning_rate', -5, 0),\n",
    "#     'n_estimators': hp.choice('n_estimators', range(50, 300)),\n",
    "#     'gamma': hp.loguniform('gamma', -5, 0),\n",
    "#     'subsample': hp.uniform('subsample', 0.5, 1.0),  # Add subsample\n",
    "#     'min_child_weight': hp.choice('min_child_weight', range(1, 10)),  # Add min_child_weight\n",
    "#     'colsample_bytree': hp.uniform('colsample_bytree', 0.5, 1.0),  # Add colsample_bytree\n",
    "#     'reg_lambda': hp.loguniform('reg_lambda', -5, 5),  # Add reg_lambda\n",
    "# }\n",
    "\n",
    "# # Objective function for hyperparameter optimization\n",
    "# def objective(params):\n",
    "#     cls = xgb.XGBClassifier(\n",
    "#         objective='binary:logistic',\n",
    "#         seed=seed,\n",
    "#         eval_metric='auc',\n",
    "#         max_depth=params['max_depth'],\n",
    "#         learning_rate=params['learning_rate'],\n",
    "#         n_estimators=params['n_estimators'],\n",
    "#         gamma=params['gamma'],\n",
    "#         subsample=params['subsample'],  # Use subsample\n",
    "#         min_child_weight=params['min_child_weight'],  # Use min_child_weight\n",
    "#         colsample_bytree=params['colsample_bytree'],  # Use colsample_bytree\n",
    "#         reg_lambda=params['reg_lambda'],  # Use reg_lambda\n",
    "#     )\n",
    "\n",
    "#     cls.fit(X_train, y_train, eval_set=[(X_val, y_val)], verbose=False)\n",
    "    \n",
    "#     y_pred = cls.predict_proba(X_val)[:, 1]\n",
    "#     auc_roc = sklearn.metrics.roc_auc_score(y_val, y_pred)\n",
    "    \n",
    "#     return -auc_roc  # We want to maximize AUC-ROC, so we negate it for minimization\n",
    "\n",
    "# # Set up Hyperopt search\n",
    "# best = fmin(fn=objective, space=space, algo=tpe.suggest, max_evals=350)  # Adjust max_evals as needed\n",
    "\n",
    "# # Print the best hyperparameters\n",
    "# print(\"Best Hyperparameters:\")\n",
    "# print(best)\n",
    "\n",
    "best_max_depth = 6\n",
    "best_learning_rate = 0.09512855850107411\n",
    "best_n_estimators = 224\n",
    "best_gamma = 0.10113552100045467\n",
    "best_subsample = 0.9158989170972806\n",
    "best_min_child_weight = 3\n",
    "best_colsample_bytree = 0.9000335771350197\n",
    "best_reg_lambda = 12.654060098206006\n",
    "\n",
    "final_cls = make_pipeline(StandardScaler(), SimpleImputer(), xgb.XGBClassifier(\n",
    "        objective='binary:logistic',\n",
    "        seed=seed,\n",
    "        eval_metric='auc',\n",
    "        max_depth=best_max_depth,\n",
    "        learning_rate=best_learning_rate,\n",
    "        n_estimators=best_n_estimators,\n",
    "        gamma=best_gamma,\n",
    "        subsample=best_subsample,\n",
    "        min_child_weight=best_min_child_weight,\n",
    "        colsample_bytree=best_colsample_bytree,\n",
    "        reg_lambda=best_reg_lambda,\n",
    "    )\n",
    ")\n",
    "\n",
    "final_cls.fit(X_train, y_train)\n",
    "\n",
    "\n",
    "# Chequeamos el valor debajo de la curva AUC-ROC\n",
    "y_pred = final_cls.predict_proba(X_val)[:, 1]\n",
    "auc_roc = sklearn.metrics.roc_auc_score(y_val, y_pred)\n",
    "print('AUC-ROC validación: %0.5f' % auc_roc)"
   ]
  },
  {
   "cell_type": "code",
   "execution_count": 19,
   "metadata": {},
   "outputs": [],
   "source": [
    "# Para hacer submit.\n",
    "all_data_cls = make_pipeline(StandardScaler(), SimpleImputer(), xgb.XGBClassifier(\n",
    "    objective='binary:logistic',\n",
    "    seed=seed,\n",
    "    eval_metric='auc',\n",
    "    max_depth=best_max_depth,\n",
    "    learning_rate=best_learning_rate,\n",
    "    n_estimators=best_n_estimators,\n",
    "    gamma=best_gamma,\n",
    "    subsample=best_subsample,\n",
    "    min_child_weight=best_min_child_weight,\n",
    "    colsample_bytree=best_colsample_bytree,\n",
    "    reg_lambda=best_reg_lambda,\n",
    "))\n",
    "\n",
    "all_data_cls.fit(X, y)\n",
    "\n",
    "# Predicción en la data de kaggle para submitear.\n",
    "kaggle_data = kaggle_data.drop(columns=[\"conversion\"])\n",
    "y_preds = all_data_cls.predict_proba(kaggle_data.drop(columns=[\"ROW_ID\"]))[:, final_cls.classes_ == 1].squeeze()\n",
    "\n",
    "# Generamos el archivo para submit en base a lo predicho.\n",
    "submission_df = pd.DataFrame({\"ROW_ID\": kaggle_data[\"ROW_ID\"], \"conversion\": y_preds})\n",
    "submission_df[\"ROW_ID\"] = submission_df[\"ROW_ID\"].astype(int)\n",
    "submission_df.to_csv(\"xgboost_model/xgboost_model.csv\", sep=\",\", index=False)"
   ]
  }
 ],
 "metadata": {
  "kernelspec": {
   "display_name": "td6",
   "language": "python",
   "name": "python3"
  },
  "language_info": {
   "codemirror_mode": {
    "name": "ipython",
    "version": 3
   },
   "file_extension": ".py",
   "mimetype": "text/x-python",
   "name": "python",
   "nbconvert_exporter": "python",
   "pygments_lexer": "ipython3",
   "version": "3.11.4"
  },
  "orig_nbformat": 4
 },
 "nbformat": 4,
 "nbformat_minor": 2
}
